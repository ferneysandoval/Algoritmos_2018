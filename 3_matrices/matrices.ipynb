{
 "cells": [
  {
   "cell_type": "code",
   "execution_count": 4,
   "metadata": {
    "collapsed": false
   },
   "outputs": [
    {
     "name": "stdout",
     "output_type": "stream",
     "text": [
      "n:  40\n",
      "3.73364659612e-07\n"
     ]
    }
   ],
   "source": [
    "import numpy as np\n",
    "import time\n",
    "\n",
    "n = int(40)\n",
    "#-----------------------------\n",
    "#  variables\n",
    "a = np.ones((n,n))\n",
    "b = np.empty((n,n))\n",
    "answer = np.empty((n,n))\n",
    "\n",
    "for i in range(len(b)):\n",
    "    for j in range(len(b[i])):\n",
    "        b[i][j] = 2\n",
    "#-----------------------------\n",
    "#numero de pasos\n",
    "start_time =time.time()\n",
    "steps = 2*n + 2*n**2 + 3*n**3 +1                                    #2N+4N^2+3n^3+1\n",
    "# multiplicacion de matrices\n",
    "#\n",
    "for fila in range(n):                                                  # N+1\n",
    "\tfor columna in range(n):                                           # N*(N+1)                                                        \n",
    "\t\tfor i in range(n):                                             #N*N*(N+1)\n",
    "\t\t\tanswer[fila][columna] += a[fila][i] * b[i][columna]        #2*N*N*N\n",
    "#-----------------------------\n",
    "print \"n: \",n\n",
    "\n",
    "print (time.time()-start_time)/steps"
   ]
  },
  {
   "cell_type": "code",
   "execution_count": null,
   "metadata": {
    "collapsed": true
   },
   "outputs": [],
   "source": []
  }
 ],
 "metadata": {
  "kernelspec": {
   "display_name": "Python 2",
   "language": "python",
   "name": "python2"
  },
  "language_info": {
   "codemirror_mode": {
    "name": "ipython",
    "version": 2
   },
   "file_extension": ".py",
   "mimetype": "text/x-python",
   "name": "python",
   "nbconvert_exporter": "python",
   "pygments_lexer": "ipython2",
   "version": "2.7.12"
  }
 },
 "nbformat": 4,
 "nbformat_minor": 2
}