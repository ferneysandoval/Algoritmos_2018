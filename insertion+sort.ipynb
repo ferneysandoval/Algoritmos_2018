{
 "cells": [
  {
   "cell_type": "code",
   "execution_count": 13,
   "metadata": {
    "collapsed": false
   },
   "outputs": [
    {
     "name": "stdout",
     "output_type": "stream",
     "text": [
      "[10, 14, 18, 25, 6, 5, 2, 74, 1, 25, 2123, 4, 123, 5, 123, 58]\n",
      "[1, 2, 4, 5, 5, 6, 10, 14, 18, 25, 25, 58, 74, 123, 123, 2123]\n"
     ]
    }
   ],
   "source": [
    "#insertion sort \n",
    "#----------------------------------------\n",
    "\n",
    "def insertion_sort(array):\n",
    "    i = 1\n",
    "    while( i < len(array) ):\n",
    "        key = array[i]\n",
    "        aux = i - 1\n",
    "        while (aux >= 0) and (array[aux] > key):\n",
    "            array[aux+1] = array[aux]\n",
    "            aux = aux - 1\n",
    "        array[aux+1] = key\n",
    "        i = i + 1\n",
    "\n",
    "#---------------------------------------------\n",
    "\n",
    "myListProof = [10,14,18,25,6,5,2,74,1,25,2123,4,123,5,123,58];\n",
    "\n",
    "print myListProof\n",
    "insertion_sort(myListProof)\n",
    "print myListProof\n",
    "\n",
    "\n",
    "        "
   ]
  },
  {
   "cell_type": "code",
   "execution_count": null,
   "metadata": {
    "collapsed": true
   },
   "outputs": [],
   "source": []
  },
  {
   "cell_type": "code",
   "execution_count": null,
   "metadata": {
    "collapsed": true
   },
   "outputs": [],
   "source": []
  }
 ],
 "metadata": {
  "kernelspec": {
   "display_name": "Python 2",
   "language": "python",
   "name": "python2"
  },
  "language_info": {
   "codemirror_mode": {
    "name": "ipython",
    "version": 2
   },
   "file_extension": ".py",
   "mimetype": "text/x-python",
   "name": "python",
   "nbconvert_exporter": "python",
   "pygments_lexer": "ipython2",
   "version": "2.7.12"
  }
 },
 "nbformat": 4,
 "nbformat_minor": 2
}