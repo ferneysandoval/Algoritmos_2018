{
 "cells": [
  {
   "cell_type": "markdown",
   "metadata": {},
   "source": [
    "### Laboratorio 2 - Punto 3\n",
    "Podemos observar el numero de  comparaciones y intercambios que se requieren para ordenar una muestra aleatoria de permutaciones usando BuubleSort"
   ]
  },
  {
   "cell_type": "markdown",
   "metadata": {},
   "source": [
    "Librerias necesarias"
   ]
  },
  {
   "cell_type": "code",
   "execution_count": 20,
   "metadata": {
    "collapsed": false
   },
   "outputs": [],
   "source": [
    "import random\n",
    "import numpy as np\n",
    "import matplotlib.pyplot as plt"
   ]
  },
  {
   "cell_type": "markdown",
   "metadata": {},
   "source": [
    "Función que se encarga de generar las permutaciones de forma aleatoria"
   ]
  },
  {
   "cell_type": "code",
   "execution_count": 21,
   "metadata": {
    "collapsed": true
   },
   "outputs": [],
   "source": [
    "def randomPerm(n):\n",
    "    v=[]\n",
    "    for i in range(n):\n",
    "        v.append(i+1)\n",
    "    for i in range(len(v)-1):\n",
    "        j = random.randint(i, len(v)-1)\n",
    "        aux = v[i]\n",
    "        v[i] = v[j]\n",
    "        v[j] = aux\n",
    "    return v\n"
   ]
  },
  {
   "cell_type": "markdown",
   "metadata": {},
   "source": [
    "Mi version de BuubleSort esta returna la cantidad de pasos,el numero de comparaciones y el numero de intercambios para cada ordenamiento"
   ]
  },
  {
   "cell_type": "code",
   "execution_count": 23,
   "metadata": {
    "collapsed": true
   },
   "outputs": [],
   "source": [
    "def iBubbleSort(a):\n",
    "    v = []\n",
    "    for k in range(len(a)):\n",
    "        array.append(a[k])\n",
    "        \n",
    "    steps = 0\n",
    "    swap = 0\n",
    "    comp = 0\n",
    "    #----------------    Bubble Sort     --------------\n",
    "    for i in range (len(array)-1):\n",
    "        for j in range (len(array)-i-1):\n",
    "            if(array[j]>array[j+1]):\n",
    "                array[j],array[j+1] =array[ j+1 ], array[j]\n",
    "                swap = swap +2     # 2 swap\n",
    "                comp = comp + 1    # 1 comparacion\n",
    "                steps = steps + 4  # 4 pasos\n",
    "            steps = steps + 1      # 1 paso\n",
    "    steps = steps + 1      # 1 paso\n",
    "    #--------------------------------------------------\n",
    "    dis = [steps,comp,swap]\n",
    "    return dis\n"
   ]
  },
  {
   "cell_type": "code",
   "execution_count": 24,
   "metadata": {
    "collapsed": false
   },
   "outputs": [
    {
     "name": "stdout",
     "output_type": "stream",
     "text": [
      "Experimenal  average comparisons, 252447\n",
      "Experimenal  average swap,504895\n",
      "Experimenal average time,18259684\n"
     ]
    },
    {
     "data": {
      "image/png": "[encoded data removed]",
      "text/plain": [
       "<matplotlib.figure.Figure at 0x7fcd51bea5d0>"
      ]
     },
     "metadata": {},
     "output_type": "display_data"
    }
   ],
   "source": [
    "n = 100\n",
    "runs = 10000\n",
    "array =[]\n",
    "sum = 0\n",
    "sumComp = 0\n",
    "sumSwap = 0\n",
    "\n",
    "# llamado para cada una de los ordenamientos\n",
    "for i in range(runs):\n",
    "    t = iBubbleSort(randomPerm(n))\n",
    "    steps= int(t[0])\n",
    "    array.append(steps)\n",
    "    sum = sum + steps\n",
    "    sumComp = sumComp + int(t[1])\n",
    "    sumSwap = sumSwap + int(t[2])\n",
    "# Deficion de la distribucon    \n",
    "array.sort()\n",
    "array_n = np.array(array)\n",
    "mu, sigma = np.mean(array_n),np.std(array_n)\n",
    "\n",
    "cuenta, cajas, ignorar = plt.hist(array_n, 30, normed=True)\n",
    "normal = plt.plot(cajas, 1/(sigma * np.sqrt(2 * np.pi)) * np.exp( - (cajas - mu)**2 / (2 * sigma**2) ),linewidth=2, color='r')\n",
    " #comparaciones y intercambios \n",
    "print 'Experimenal  average comparisons, ' + str(sumComp/runs)\n",
    "print 'Experimenal  average swap,' + str(sumSwap/runs)\n",
    "print 'Experimenal average time,' + str(sum/runs)"
   ]
  },
  {
   "cell_type": "code",
   "execution_count": null,
   "metadata": {
    "collapsed": true
   },
   "outputs": [],
   "source": []
  }
 ],
 "metadata": {
  "kernelspec": {
   "display_name": "Python 2",
   "language": "python",
   "name": "python2"
  },
  "language_info": {
   "codemirror_mode": {
    "name": "ipython",
    "version": 2
   },
   "file_extension": ".py",
   "mimetype": "text/x-python",
   "name": "python",
   "nbconvert_exporter": "python",
   "pygments_lexer": "ipython2",
   "version": "2.7.12"
  }
 },
 "nbformat": 4,
 "nbformat_minor": 2
}